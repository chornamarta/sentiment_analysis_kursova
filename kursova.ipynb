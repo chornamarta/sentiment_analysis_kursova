{
 "cells": [
  {
   "cell_type": "code",
   "execution_count": 26,
   "id": "add6e855",
   "metadata": {},
   "outputs": [],
   "source": [
    "import numpy as np \n",
    "import pandas as pd \n",
    "import seaborn as sns \n",
    "import matplotlib.pyplot as plt\n",
    "plt.style.use('ggplot')\n",
    "from sklearn.metrics import roc_curve, auc\n",
    "from sklearn.metrics import classification_report, confusion_matrix\n",
    "import nltk\n",
    "from nltk.corpus import stopwords\n",
    "from nltk.stem import PorterStemmer \n",
    "from sklearn.model_selection import train_test_split\n",
    "from mlxtend.plotting import plot_confusion_matrix\n",
    "import matplotlib.cm as cm\n",
    "from matplotlib import rcParams\n",
    "from collections import Counter\n",
    "from nltk.tokenize import RegexpTokenizer\n",
    "import re\n",
    "import string\n",
    "from tensorflow.keras.layers import LSTM, Activation, Dense, Dropout, Input, Embedding\n",
    "from tensorflow.keras.models import Model\n",
    "from tensorflow.keras.optimizers import RMSprop\n",
    "from tensorflow.keras.preprocessing.text import Tokenizer\n",
    "from tensorflow.keras.preprocessing import sequence\n",
    "%matplotlib inline\n",
    "import warnings\n",
    "warnings.filterwarnings(\"ignore\")"
   ]
  },
  {
   "cell_type": "code",
   "execution_count": 27,
   "id": "b24e66e1",
   "metadata": {},
   "outputs": [],
   "source": [
    "data = pd.read_csv('Dataset.csv', engine='python', encoding='latin-1')"
   ]
  },
  {
   "cell_type": "code",
   "execution_count": 28,
   "id": "fb45437f",
   "metadata": {},
   "outputs": [],
   "source": [
    "data.columns=[\"label\",\"time\",\"date\",\"query\",\"username\",\"text\"]"
   ]
  },
  {
   "cell_type": "code",
   "execution_count": 29,
   "id": "c53fc185",
   "metadata": {},
   "outputs": [
    {
     "data": {
      "text/html": [
       "<div>\n",
       "<style scoped>\n",
       "    .dataframe tbody tr th:only-of-type {\n",
       "        vertical-align: middle;\n",
       "    }\n",
       "\n",
       "    .dataframe tbody tr th {\n",
       "        vertical-align: top;\n",
       "    }\n",
       "\n",
       "    .dataframe thead th {\n",
       "        text-align: right;\n",
       "    }\n",
       "</style>\n",
       "<table border=\"1\" class=\"dataframe\">\n",
       "  <thead>\n",
       "    <tr style=\"text-align: right;\">\n",
       "      <th></th>\n",
       "      <th>label</th>\n",
       "      <th>time</th>\n",
       "      <th>date</th>\n",
       "      <th>query</th>\n",
       "      <th>username</th>\n",
       "      <th>text</th>\n",
       "    </tr>\n",
       "  </thead>\n",
       "  <tbody>\n",
       "    <tr>\n",
       "      <th>0</th>\n",
       "      <td>0</td>\n",
       "      <td>1467810672</td>\n",
       "      <td>Mon Apr 06 22:19:49 PDT 2009</td>\n",
       "      <td>NO_QUERY</td>\n",
       "      <td>scotthamilton</td>\n",
       "      <td>is upset that he can't update his Facebook by ...</td>\n",
       "    </tr>\n",
       "    <tr>\n",
       "      <th>1</th>\n",
       "      <td>0</td>\n",
       "      <td>1467810917</td>\n",
       "      <td>Mon Apr 06 22:19:53 PDT 2009</td>\n",
       "      <td>NO_QUERY</td>\n",
       "      <td>mattycus</td>\n",
       "      <td>@Kenichan I dived many times for the ball. Man...</td>\n",
       "    </tr>\n",
       "    <tr>\n",
       "      <th>2</th>\n",
       "      <td>0</td>\n",
       "      <td>1467811184</td>\n",
       "      <td>Mon Apr 06 22:19:57 PDT 2009</td>\n",
       "      <td>NO_QUERY</td>\n",
       "      <td>ElleCTF</td>\n",
       "      <td>my whole body feels itchy and like its on fire</td>\n",
       "    </tr>\n",
       "    <tr>\n",
       "      <th>3</th>\n",
       "      <td>0</td>\n",
       "      <td>1467811193</td>\n",
       "      <td>Mon Apr 06 22:19:57 PDT 2009</td>\n",
       "      <td>NO_QUERY</td>\n",
       "      <td>Karoli</td>\n",
       "      <td>@nationwideclass no, it's not behaving at all....</td>\n",
       "    </tr>\n",
       "    <tr>\n",
       "      <th>4</th>\n",
       "      <td>0</td>\n",
       "      <td>1467811372</td>\n",
       "      <td>Mon Apr 06 22:20:00 PDT 2009</td>\n",
       "      <td>NO_QUERY</td>\n",
       "      <td>joy_wolf</td>\n",
       "      <td>@Kwesidei not the whole crew</td>\n",
       "    </tr>\n",
       "  </tbody>\n",
       "</table>\n",
       "</div>"
      ],
      "text/plain": [
       "   label        time                          date     query       username  \\\n",
       "0      0  1467810672  Mon Apr 06 22:19:49 PDT 2009  NO_QUERY  scotthamilton   \n",
       "1      0  1467810917  Mon Apr 06 22:19:53 PDT 2009  NO_QUERY       mattycus   \n",
       "2      0  1467811184  Mon Apr 06 22:19:57 PDT 2009  NO_QUERY        ElleCTF   \n",
       "3      0  1467811193  Mon Apr 06 22:19:57 PDT 2009  NO_QUERY         Karoli   \n",
       "4      0  1467811372  Mon Apr 06 22:20:00 PDT 2009  NO_QUERY       joy_wolf   \n",
       "\n",
       "                                                text  \n",
       "0  is upset that he can't update his Facebook by ...  \n",
       "1  @Kenichan I dived many times for the ball. Man...  \n",
       "2    my whole body feels itchy and like its on fire   \n",
       "3  @nationwideclass no, it's not behaving at all....  \n",
       "4                      @Kwesidei not the whole crew   "
      ]
     },
     "execution_count": 29,
     "metadata": {},
     "output_type": "execute_result"
    }
   ],
   "source": [
    "data.head()"
   ]
  },
  {
   "cell_type": "code",
   "execution_count": 30,
   "id": "9eab9929",
   "metadata": {},
   "outputs": [],
   "source": [
    "data = data[[\"label\",\"text\"]]"
   ]
  },
  {
   "cell_type": "code",
   "execution_count": 31,
   "id": "2ce13d41",
   "metadata": {},
   "outputs": [],
   "source": [
    "data['label'][data['label']==4]=1"
   ]
  },
  {
   "cell_type": "code",
   "execution_count": 32,
   "id": "75eeaff4",
   "metadata": {},
   "outputs": [],
   "source": [
    "data_pos = data[data['label']==1]\n",
    "data_neg = data[data['label']==0]"
   ]
  },
  {
   "cell_type": "code",
   "execution_count": 33,
   "id": "1b18bf46",
   "metadata": {},
   "outputs": [],
   "source": [
    "data_pos = data_pos.iloc[:int(20000)]\n",
    "data_neg = data_neg.iloc[:int(20000)]"
   ]
  },
  {
   "cell_type": "code",
   "execution_count": 34,
   "id": "e7ee630f",
   "metadata": {},
   "outputs": [],
   "source": [
    "data = pd.concat([data_pos,data_neg])"
   ]
  },
  {
   "cell_type": "code",
   "execution_count": 35,
   "id": "20e2a6c3",
   "metadata": {},
   "outputs": [],
   "source": [
    "data['text']=data['text'].str.lower()"
   ]
  },
  {
   "cell_type": "markdown",
   "id": "f84e4e18",
   "metadata": {},
   "source": [
    "### stop-word remove"
   ]
  },
  {
   "cell_type": "code",
   "execution_count": 36,
   "id": "3d8db8a1",
   "metadata": {},
   "outputs": [],
   "source": [
    "stopwords_list = stopwords.words('english')"
   ]
  },
  {
   "cell_type": "code",
   "execution_count": 37,
   "id": "46138b40",
   "metadata": {},
   "outputs": [
    {
     "data": {
      "text/plain": [
       "\"i,me,my,myself,we,our,ours,ourselves,you,you're,you've,you'll,you'd,your,yours,yourself,yourselves,he,him,his,himself,she,she's,her,hers,herself,it,it's,its,itself,they,them,their,theirs,themselves,what,which,who,whom,this,that,that'll,these,those,am,is,are,was,were,be,been,being,have,has,had,having,do,does,did,doing,a,an,the,and,but,if,or,because,as,until,while,of,at,by,for,with,about,against,between,into,through,during,before,after,above,below,to,from,up,down,in,out,on,off,over,under,again,further,then,once,here,there,when,where,why,how,all,any,both,each,few,more,most,other,some,such,no,nor,not,only,own,same,so,than,too,very,s,t,can,will,just,don,don't,should,should've,now,d,ll,m,o,re,ve,y,ain,aren,aren't,couldn,couldn't,didn,didn't,doesn,doesn't,hadn,hadn't,hasn,hasn't,haven,haven't,isn,isn't,ma,mightn,mightn't,mustn,mustn't,needn,needn't,shan,shan't,shouldn,shouldn't,wasn,wasn't,weren,weren't,won,won't,wouldn,wouldn't\""
      ]
     },
     "execution_count": 37,
     "metadata": {},
     "output_type": "execute_result"
    }
   ],
   "source": [
    "from nltk.corpus import stopwords\n",
    "\",\".join(stopwords.words('english'))"
   ]
  },
  {
   "cell_type": "markdown",
   "id": "308ac408",
   "metadata": {},
   "source": [
    "### really remove stopword"
   ]
  },
  {
   "cell_type": "code",
   "execution_count": 38,
   "id": "f412e0fc",
   "metadata": {},
   "outputs": [
    {
     "data": {
      "text/plain": [
       "799999                love @health4uandpets u guys r best!!\n",
       "800000    im meeting one besties tonight! cant wait!! - ...\n",
       "800001    @darealsunisakim thanks twitter add, sunisa! g...\n",
       "800002    sick really cheap hurts much eat real food plu...\n",
       "800003                      @lovesbrooklyn2 effect everyone\n",
       "Name: text, dtype: object"
      ]
     },
     "execution_count": 38,
     "metadata": {},
     "output_type": "execute_result"
    }
   ],
   "source": [
    "STOPWORDS = set(stopwords.words('english'))\n",
    "def cleaning_stopwords(text):\n",
    "    return \" \".join([word for word in str(text).split() if word not in STOPWORDS])\n",
    "data['text'] = data['text'].apply(lambda text:cleaning_stopwords(text))\n",
    "data['text'].head()"
   ]
  },
  {
   "cell_type": "markdown",
   "id": "51edd43b",
   "metadata": {},
   "source": [
    "### removing punctuation"
   ]
  },
  {
   "cell_type": "code",
   "execution_count": 39,
   "id": "d2d9ce24",
   "metadata": {},
   "outputs": [],
   "source": [
    "english_punctuation_list = string.punctuation"
   ]
  },
  {
   "cell_type": "code",
   "execution_count": 40,
   "id": "1efe4eed",
   "metadata": {},
   "outputs": [],
   "source": [
    "def cleaning_punc(text):\n",
    "    translator = str.maketrans('','',english_punctuation_list)\n",
    "    return text.translate(translator)"
   ]
  },
  {
   "cell_type": "code",
   "execution_count": 41,
   "id": "d3aceae3",
   "metadata": {},
   "outputs": [
    {
     "data": {
      "text/plain": [
       "799999                   love health4uandpets u guys r best\n",
       "800000    im meeting one besties tonight cant wait  girl...\n",
       "800001    darealsunisakim thanks twitter add sunisa got ...\n",
       "800002    sick really cheap hurts much eat real food plu...\n",
       "800003                       lovesbrooklyn2 effect everyone\n",
       "Name: text, dtype: object"
      ]
     },
     "execution_count": 41,
     "metadata": {},
     "output_type": "execute_result"
    }
   ],
   "source": [
    "data['text'] = data['text'].apply(lambda text:cleaning_punc(text))\n",
    "data['text'].head()"
   ]
  },
  {
   "cell_type": "markdown",
   "id": "d7e97269",
   "metadata": {},
   "source": [
    "### remove repeating characters"
   ]
  },
  {
   "cell_type": "code",
   "execution_count": 42,
   "id": "6910fb4a",
   "metadata": {},
   "outputs": [],
   "source": [
    "def cleaning_char(text):\n",
    "    return re.sub(r'(.)\\1+',r'\\1',text)"
   ]
  },
  {
   "cell_type": "code",
   "execution_count": 43,
   "id": "9c1acbe4",
   "metadata": {},
   "outputs": [
    {
     "data": {
      "text/plain": [
       "799999                   love health4uandpets u guys r best\n",
       "800000    im meting one besties tonight cant wait girl talk\n",
       "800001    darealsunisakim thanks twiter ad sunisa got me...\n",
       "800002    sick realy cheap hurts much eat real fod plus ...\n",
       "800003                         lovesbroklyn2 efect everyone\n",
       "Name: text, dtype: object"
      ]
     },
     "execution_count": 43,
     "metadata": {},
     "output_type": "execute_result"
    }
   ],
   "source": [
    "data['text'] = data['text'].apply(lambda text:cleaning_char(text))\n",
    "data['text'].head()"
   ]
  },
  {
   "cell_type": "markdown",
   "id": "20f7e63b",
   "metadata": {},
   "source": [
    "### removing email"
   ]
  },
  {
   "cell_type": "code",
   "execution_count": 44,
   "id": "04abc2b3",
   "metadata": {},
   "outputs": [],
   "source": [
    "def cleaning_email(data):\n",
    "    return re.sub('@[^\\s]+',' ',data)"
   ]
  },
  {
   "cell_type": "code",
   "execution_count": 45,
   "id": "0cb10c02",
   "metadata": {},
   "outputs": [
    {
     "data": {
      "text/plain": [
       "799999                   love health4uandpets u guys r best\n",
       "800000    im meting one besties tonight cant wait girl talk\n",
       "800001    darealsunisakim thanks twiter ad sunisa got me...\n",
       "800002    sick realy cheap hurts much eat real fod plus ...\n",
       "800003                         lovesbroklyn2 efect everyone\n",
       "Name: text, dtype: object"
      ]
     },
     "execution_count": 45,
     "metadata": {},
     "output_type": "execute_result"
    }
   ],
   "source": [
    "data['text'] = data['text'].apply(lambda data:cleaning_email(data))\n",
    "data['text'].head()"
   ]
  },
  {
   "cell_type": "markdown",
   "id": "5da39616",
   "metadata": {},
   "source": [
    "### removing url's"
   ]
  },
  {
   "cell_type": "code",
   "execution_count": 46,
   "id": "49588008",
   "metadata": {},
   "outputs": [],
   "source": [
    "def cleaning_url(data):\n",
    "    return re.sub('((www\\.[^\\s]+)|(https&://[^\\s]+))',' ',data)"
   ]
  },
  {
   "cell_type": "code",
   "execution_count": 47,
   "id": "c5a7f5e4",
   "metadata": {},
   "outputs": [
    {
     "data": {
      "text/plain": [
       "799999                   love health4uandpets u guys r best\n",
       "800000    im meting one besties tonight cant wait girl talk\n",
       "800001    darealsunisakim thanks twiter ad sunisa got me...\n",
       "800002    sick realy cheap hurts much eat real fod plus ...\n",
       "800003                         lovesbroklyn2 efect everyone\n",
       "Name: text, dtype: object"
      ]
     },
     "execution_count": 47,
     "metadata": {},
     "output_type": "execute_result"
    }
   ],
   "source": [
    "data['text'] = data['text'].apply(lambda data:cleaning_url(data))\n",
    "data['text'].head()"
   ]
  },
  {
   "cell_type": "markdown",
   "id": "28a9df70",
   "metadata": {},
   "source": [
    "### cleaning numbers"
   ]
  },
  {
   "cell_type": "code",
   "execution_count": 48,
   "id": "1997945d",
   "metadata": {},
   "outputs": [],
   "source": [
    "def cleaning_num(data):\n",
    "    return re.sub('[0-9]+','',data)"
   ]
  },
  {
   "cell_type": "code",
   "execution_count": 49,
   "id": "b9f1de01",
   "metadata": {},
   "outputs": [
    {
     "data": {
      "text/plain": [
       "799999                    love healthuandpets u guys r best\n",
       "800000    im meting one besties tonight cant wait girl talk\n",
       "800001    darealsunisakim thanks twiter ad sunisa got me...\n",
       "800002    sick realy cheap hurts much eat real fod plus ...\n",
       "800003                          lovesbroklyn efect everyone\n",
       "Name: text, dtype: object"
      ]
     },
     "execution_count": 49,
     "metadata": {},
     "output_type": "execute_result"
    }
   ],
   "source": [
    "data['text'] = data['text'].apply(lambda text:cleaning_num(text))\n",
    "data['text'].head()"
   ]
  },
  {
   "cell_type": "markdown",
   "id": "bb864fee",
   "metadata": {},
   "source": [
    "### tokenization"
   ]
  },
  {
   "cell_type": "code",
   "execution_count": 51,
   "id": "16a63f91",
   "metadata": {},
   "outputs": [],
   "source": [
    "tokenzier = RegexpTokenizer(r'\\w+')"
   ]
  },
  {
   "cell_type": "code",
   "execution_count": 53,
   "id": "02903270",
   "metadata": {},
   "outputs": [
    {
     "data": {
      "text/plain": [
       "799999             [love, healthuandpets, u, guys, r, best]\n",
       "800000    [im, meting, one, besties, tonight, cant, wait...\n",
       "800001    [darealsunisakim, thanks, twiter, ad, sunisa, ...\n",
       "800002    [sick, realy, cheap, hurts, much, eat, real, f...\n",
       "800003                      [lovesbroklyn, efect, everyone]\n",
       "Name: text, dtype: object"
      ]
     },
     "execution_count": 53,
     "metadata": {},
     "output_type": "execute_result"
    }
   ],
   "source": [
    "data['text'] = data['text'].apply(tokenzier.tokenize)\n",
    "data['text'].head()"
   ]
  },
  {
   "cell_type": "markdown",
   "id": "b0bf64dc",
   "metadata": {},
   "source": [
    "### Stemming"
   ]
  },
  {
   "cell_type": "code",
   "execution_count": 56,
   "id": "1c27f472",
   "metadata": {},
   "outputs": [],
   "source": [
    "st = nltk.PorterStemmer()"
   ]
  },
  {
   "cell_type": "code",
   "execution_count": 57,
   "id": "00c201a1",
   "metadata": {},
   "outputs": [],
   "source": [
    "def stemming_on_text(data):\n",
    "    text = [st.stem(word) for word in data]\n",
    "    return text"
   ]
  },
  {
   "cell_type": "code",
   "execution_count": 58,
   "id": "18eb7323",
   "metadata": {},
   "outputs": [
    {
     "data": {
      "text/plain": [
       "799999               [love, healthuandpet, u, guy, r, best]\n",
       "800000    [im, mete, one, besti, tonight, cant, wait, gi...\n",
       "800001    [darealsunisakim, thank, twiter, ad, sunisa, g...\n",
       "800002    [sick, reali, cheap, hurt, much, eat, real, fo...\n",
       "800003                       [lovesbroklyn, efect, everyon]\n",
       "Name: text, dtype: object"
      ]
     },
     "execution_count": 58,
     "metadata": {},
     "output_type": "execute_result"
    }
   ],
   "source": [
    "data['text'] = data['text'].apply(lambda data:stemming_on_text(data))\n",
    "data['text'].head()"
   ]
  },
  {
   "cell_type": "markdown",
   "id": "2fb00f7f",
   "metadata": {},
   "source": [
    "### Lemmatizier"
   ]
  },
  {
   "cell_type": "code",
   "execution_count": 60,
   "id": "f02a743f",
   "metadata": {},
   "outputs": [],
   "source": [
    "lm = nltk.WordNetLemmatizer()"
   ]
  },
  {
   "cell_type": "code",
   "execution_count": 61,
   "id": "15f8b6e9",
   "metadata": {},
   "outputs": [],
   "source": [
    "def lemmatizier_on_text(data):\n",
    "    text = [lm.lemmatize(word) for word in data]\n",
    "    return text"
   ]
  },
  {
   "cell_type": "code",
   "execution_count": 62,
   "id": "5f2d7579",
   "metadata": {},
   "outputs": [
    {
     "data": {
      "text/plain": [
       "799999               [love, healthuandpet, u, guy, r, best]\n",
       "800000    [im, mete, one, besti, tonight, cant, wait, gi...\n",
       "800001    [darealsunisakim, thank, twiter, ad, sunisa, g...\n",
       "800002    [sick, reali, cheap, hurt, much, eat, real, fo...\n",
       "800003                       [lovesbroklyn, efect, everyon]\n",
       "Name: text, dtype: object"
      ]
     },
     "execution_count": 62,
     "metadata": {},
     "output_type": "execute_result"
    }
   ],
   "source": [
    "data['text'] = data['text'].apply(lambda data:lemmatizier_on_text(data))\n",
    "data['text'].head()"
   ]
  },
  {
   "cell_type": "code",
   "execution_count": 63,
   "id": "ba1a6feb",
   "metadata": {},
   "outputs": [],
   "source": [
    "X = data.text\n",
    "y = data.label"
   ]
  },
  {
   "cell_type": "code",
   "execution_count": 64,
   "id": "1154cda9",
   "metadata": {},
   "outputs": [],
   "source": [
    "max_len = 500\n",
    "tok = Tokenizer(num_words=2000)\n",
    "tok.fit_on_texts(X)\n",
    "sequences = tok.texts_to_sequences(X)\n",
    "sequences_matrix = sequence.pad_sequences(sequences,maxlen=max_len)"
   ]
  },
  {
   "cell_type": "code",
   "execution_count": 65,
   "id": "ec9c38c9",
   "metadata": {},
   "outputs": [],
   "source": [
    "X_train, X_test, Y_train, Y_test = train_test_split(sequences_matrix, y, test_size=0.3, random_state=2)"
   ]
  },
  {
   "cell_type": "markdown",
   "id": "7df2b171",
   "metadata": {},
   "source": [
    "# important"
   ]
  },
  {
   "cell_type": "code",
   "execution_count": 66,
   "id": "ac492876",
   "metadata": {},
   "outputs": [],
   "source": [
    "def tensorflow_based_model(): #Визначена функція tensorflow_based_model для навчання моделі на основі tenforflow\n",
    "    inputs = Input(name='inputs',shape=[max_len])#step1\n",
    "    layer = Embedding(2000,50,input_length=max_len)(inputs) #step2\n",
    "    layer = LSTM(64)(layer) #step3\n",
    "    layer = Dense(256,name='FC1')(layer) #step4\n",
    "    layer = Activation('relu')(layer) # step5 функція \"Зрі́заний ліні́йний ву́зол\"\n",
    "    layer = Dropout(0.5)(layer) # step6\n",
    "    layer = Dense(1,name='out_layer')(layer) #step4 знову, але цього разу він дає лише один вихідний параметр, тому що нам потрібно класифікувати твіт як позитивний чи негативний\n",
    "    layer = Activation('sigmoid')(layer) #step5 але цього разу функція активації є сигмоподібною лише для одного виходу.\n",
    "    model = Model(inputs=inputs,outputs=layer) #тут ми отримуємо кінцеве вихідне значення в моделі для класифікації\n",
    "    return model "
   ]
  },
  {
   "cell_type": "code",
   "execution_count": 68,
   "id": "ce45043e",
   "metadata": {},
   "outputs": [],
   "source": [
    "model = tensorflow_based_model() # викликаємо функцію для створення моделі\n",
    "model.compile(loss='binary_crossentropy',optimizer=RMSprop(),metrics=['accuracy'])"
   ]
  },
  {
   "cell_type": "markdown",
   "id": "d94ff58b",
   "metadata": {},
   "source": [
    "# Training"
   ]
  },
  {
   "cell_type": "code",
   "execution_count": 69,
   "id": "a5bf33b2",
   "metadata": {},
   "outputs": [
    {
     "name": "stdout",
     "output_type": "stream",
     "text": [
      "Epoch 1/6\n",
      "315/315 [==============================] - 114s 353ms/step - loss: 0.5898 - accuracy: 0.6938 - val_loss: 0.5222 - val_accuracy: 0.7432\n",
      "Epoch 2/6\n",
      "315/315 [==============================] - 101s 321ms/step - loss: 0.5036 - accuracy: 0.7573 - val_loss: 0.5157 - val_accuracy: 0.7482\n",
      "Epoch 3/6\n",
      "315/315 [==============================] - 101s 319ms/step - loss: 0.4899 - accuracy: 0.7633 - val_loss: 0.5122 - val_accuracy: 0.7471\n",
      "Epoch 4/6\n",
      "315/315 [==============================] - 101s 322ms/step - loss: 0.4787 - accuracy: 0.7698 - val_loss: 0.5191 - val_accuracy: 0.7443\n",
      "Epoch 5/6\n",
      "315/315 [==============================] - 101s 322ms/step - loss: 0.4800 - accuracy: 0.7736 - val_loss: 0.5219 - val_accuracy: 0.7468\n",
      "Epoch 6/6\n",
      "315/315 [==============================] - 109s 345ms/step - loss: 0.4572 - accuracy: 0.7821 - val_loss: 0.5303 - val_accuracy: 0.7418\n",
      "Training finished !!\n"
     ]
    }
   ],
   "source": [
    "history=model.fit(X_train,Y_train,batch_size=80,epochs=6, validation_split=0.1)# here we are starting the training of model by feeding the training data\n",
    "print('Training finished !!')"
   ]
  },
  {
   "cell_type": "markdown",
   "id": "1bf6a777",
   "metadata": {},
   "source": [
    "# testing training model"
   ]
  },
  {
   "cell_type": "code",
   "execution_count": 70,
   "id": "2fa01934",
   "metadata": {},
   "outputs": [
    {
     "name": "stdout",
     "output_type": "stream",
     "text": [
      "375/375 [==============================] - 26s 69ms/step - loss: 0.5219 - accuracy: 0.7440\n"
     ]
    }
   ],
   "source": [
    "accr1 = model.evaluate(X_test,Y_test) #we are starting to test the model here"
   ]
  },
  {
   "cell_type": "code",
   "execution_count": 71,
   "id": "d0c53e85",
   "metadata": {},
   "outputs": [
    {
     "name": "stdout",
     "output_type": "stream",
     "text": [
      "Test set\n",
      " Accuracy:0.74\n"
     ]
    }
   ],
   "source": [
    "print('Test set\\n Accuracy:{:0.2f}'.format(accr1[1]))"
   ]
  },
  {
   "cell_type": "code",
   "execution_count": 72,
   "id": "322febba",
   "metadata": {},
   "outputs": [],
   "source": [
    "y_pred = model.predict(X_test) #getting predictions on the trained model\n",
    "y_pred = (y_pred > 0.5)"
   ]
  },
  {
   "cell_type": "markdown",
   "id": "8323e445",
   "metadata": {},
   "source": [
    "# confusion matrix"
   ]
  },
  {
   "cell_type": "code",
   "execution_count": 73,
   "id": "0574e7ea",
   "metadata": {},
   "outputs": [
    {
     "name": "stdout",
     "output_type": "stream",
     "text": [
      "[[4383 1626]\n",
      " [1446 4545]] \n",
      "\n"
     ]
    },
    {
     "data": {
      "image/png": "[encoded data removed]",
      "text/plain": [
       "<Figure size 720x720 with 2 Axes>"
      ]
     },
     "metadata": {
      "needs_background": "light"
     },
     "output_type": "display_data"
    }
   ],
   "source": [
    "CR = confusion_matrix(Y_test,y_pred)\n",
    "print(CR,'\\n')\n",
    "fig,ax = plot_confusion_matrix(conf_mat=CR,\n",
    "                              figsize=(10,10),\n",
    "                              show_absolute=True,\n",
    "                              show_normed=True,\n",
    "                              colorbar=True)\n",
    "plt.show()"
   ]
  },
  {
   "cell_type": "code",
   "execution_count": 78,
   "id": "b8d3dd38",
   "metadata": {},
   "outputs": [],
   "source": [
    "fpr, tpr, threshold = roc_curve(Y_test,y_pred, pos_label=1)"
   ]
  },
  {
   "cell_type": "code",
   "execution_count": 82,
   "id": "e59a89a8",
   "metadata": {},
   "outputs": [
    {
     "data": {
      "image/png": "[encoded data removed]",
      "text/plain": [
       "<Figure size 576x396 with 1 Axes>"
      ]
     },
     "metadata": {},
     "output_type": "display_data"
    }
   ],
   "source": [
    "plt.style.use('seaborn')\n",
    "plt.plot(fpr, tpr, linestyle='--',color='red', label='ROC curve')\n",
    "plt.title('ROC curve plot')\n",
    "plt.xlabel('False Positive Rate')\n",
    "plt.ylabel('True Positive Rate')\n",
    "plt.legend(loc='best')\n",
    "plt.show();"
   ]
  },
  {
   "cell_type": "code",
   "execution_count": null,
   "id": "d1210b65",
   "metadata": {},
   "outputs": [],
   "source": []
  }
 ],
 "metadata": {
  "kernelspec": {
   "display_name": "Python 3 (ipykernel)",
   "language": "python",
   "name": "python3"
  },
  "language_info": {
   "codemirror_mode": {
    "name": "ipython",
    "version": 3
   },
   "file_extension": ".py",
   "mimetype": "text/x-python",
   "name": "python",
   "nbconvert_exporter": "python",
   "pygments_lexer": "ipython3",
   "version": "3.9.12"
  }
 },
 "nbformat": 4,
 "nbformat_minor": 5
}
